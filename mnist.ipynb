{
  "nbformat": 4,
  "nbformat_minor": 0,
  "metadata": {
    "colab": {
      "name": "Untitled0.ipynb",
      "version": "0.3.2",
      "provenance": [],
      "collapsed_sections": [],
      "include_colab_link": true
    },
    "kernelspec": {
      "name": "python3",
      "display_name": "Python 3"
    }
  },
  "cells": [
    {
      "cell_type": "markdown",
      "metadata": {
        "id": "view-in-github",
        "colab_type": "text"
      },
      "source": [
        "<a href=\"https://colab.research.google.com/github/ayanbabusona/tensorflow/blob/master/mnist.ipynb\" target=\"_parent\"><img src=\"https://colab.research.google.com/assets/colab-badge.svg\" alt=\"Open In Colab\"/></a>"
      ]
    },
    {
      "cell_type": "markdown",
      "metadata": {
        "id": "Sq0hq2smTWe5",
        "colab_type": "text"
      },
      "source": [
        "*Install and Initialize* **Tensorflow**"
      ]
    },
    {
      "cell_type": "code",
      "metadata": {
        "id": "shYgOxY8RGFe",
        "colab_type": "code",
        "colab": {}
      },
      "source": [
        "from __future__ import absolute_import,division,print_function,unicode_literals\n",
        "!pip install tensorflow==2.0.0-beta1\n",
        "\n",
        "import tensorflow as tf"
      ],
      "execution_count": 0,
      "outputs": []
    },
    {
      "cell_type": "markdown",
      "metadata": {
        "id": "afkfcstcXjxG",
        "colab_type": "text"
      },
      "source": [
        "*Load and prepare* **MNIST** *data*"
      ]
    },
    {
      "cell_type": "code",
      "metadata": {
        "id": "yA8sEoqFUpDA",
        "colab_type": "code",
        "colab": {}
      },
      "source": [
        "mnist = tf.keras.datasets.mnist\n",
        "\n",
        "(x_train,y_train),(x_test,y_test)=mnist.load_data()\n",
        "x_train,x_test = x_train/255.0,x_test/255.0"
      ],
      "execution_count": 0,
      "outputs": []
    },
    {
      "cell_type": "markdown",
      "metadata": {
        "id": "S7gM1hhjaXeZ",
        "colab_type": "text"
      },
      "source": [
        "Build the sequeential model by training layers. Choose an optimizer and loss by training."
      ]
    },
    {
      "cell_type": "code",
      "metadata": {
        "id": "UuJoAizuYFmi",
        "colab_type": "code",
        "colab": {}
      },
      "source": [
        "model = tf.keras.models.Sequential([\n",
        "    tf.keras.layers.Flatten(input_shape=(28,28)),\n",
        "    tf.keras.layers.Dense(128,activation='relu'),\n",
        "    tf.keras.layers.Dropout(0.2),\n",
        "    tf.keras.layers.Dense(10,activation='softmax')\n",
        "])\n",
        "\n",
        "model.compile(optimizer='adam',\n",
        "             loss ='sparse_categorical_crossentropy',\n",
        "             metrics=['accuracy'])"
      ],
      "execution_count": 0,
      "outputs": []
    },
    {
      "cell_type": "markdown",
      "metadata": {
        "id": "Vrrg3GgYayP7",
        "colab_type": "text"
      },
      "source": [
        "Train and evaluate the model"
      ]
    },
    {
      "cell_type": "code",
      "metadata": {
        "id": "PCWfWqsmau0G",
        "colab_type": "code",
        "colab": {
          "base_uri": "https://localhost:8080/",
          "height": 506
        },
        "outputId": "bb566228-34fe-46e8-87ac-065be4aa94d7"
      },
      "source": [
        "model.fit(x_train,y_train,epochs=10)\n",
        "\n",
        "model.evaluate(x_test,y_test)"
      ],
      "execution_count": 23,
      "outputs": [
        {
          "output_type": "stream",
          "text": [
            "WARNING: Logging before flag parsing goes to stderr.\n",
            "W0826 05:36:46.537679 140184916453248 deprecation.py:323] From /usr/local/lib/python3.6/dist-packages/tensorflow/python/ops/math_grad.py:1250: add_dispatch_support.<locals>.wrapper (from tensorflow.python.ops.array_ops) is deprecated and will be removed in a future version.\n",
            "Instructions for updating:\n",
            "Use tf.where in 2.0, which has the same broadcast rule as np.where\n"
          ],
          "name": "stderr"
        },
        {
          "output_type": "stream",
          "text": [
            "Train on 60000 samples\n",
            "Epoch 1/10\n",
            "60000/60000 [==============================] - 7s 110us/sample - loss: 0.3031 - accuracy: 0.9114\n",
            "Epoch 2/10\n",
            "60000/60000 [==============================] - 6s 95us/sample - loss: 0.1460 - accuracy: 0.9569\n",
            "Epoch 3/10\n",
            "60000/60000 [==============================] - 6s 108us/sample - loss: 0.1071 - accuracy: 0.9676\n",
            "Epoch 4/10\n",
            "60000/60000 [==============================] - 6s 94us/sample - loss: 0.0883 - accuracy: 0.9725\n",
            "Epoch 5/10\n",
            "60000/60000 [==============================] - 6s 95us/sample - loss: 0.0751 - accuracy: 0.9760\n",
            "Epoch 6/10\n",
            "60000/60000 [==============================] - 6s 96us/sample - loss: 0.0660 - accuracy: 0.9786\n",
            "Epoch 7/10\n",
            "60000/60000 [==============================] - 6s 96us/sample - loss: 0.0597 - accuracy: 0.9812\n",
            "Epoch 8/10\n",
            "60000/60000 [==============================] - 6s 95us/sample - loss: 0.0532 - accuracy: 0.9828\n",
            "Epoch 9/10\n",
            "60000/60000 [==============================] - 5s 91us/sample - loss: 0.0481 - accuracy: 0.9843\n",
            "Epoch 10/10\n",
            "60000/60000 [==============================] - 5s 91us/sample - loss: 0.0438 - accuracy: 0.9856\n",
            "10000/10000 [==============================] - 0s 42us/sample - loss: 0.0667 - accuracy: 0.9803\n"
          ],
          "name": "stdout"
        },
        {
          "output_type": "execute_result",
          "data": {
            "text/plain": [
              "[0.06669218131987145, 0.9803]"
            ]
          },
          "metadata": {
            "tags": []
          },
          "execution_count": 23
        }
      ]
    },
    {
      "cell_type": "markdown",
      "metadata": {
        "id": "RfFL6C5fbr96",
        "colab_type": "text"
      },
      "source": [
        "This image classifier is trained to ~98% accuracy on this dataset."
      ]
    }
  ]
}