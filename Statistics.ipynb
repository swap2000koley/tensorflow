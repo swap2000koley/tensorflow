{
  "nbformat": 4,
  "nbformat_minor": 0,
  "metadata": {
    "colab": {
      "name": "Statistics",
      "provenance": [],
      "collapsed_sections": [],
      "authorship_tag": "ABX9TyNdIUSw56vNMO26WOs55xAs",
      "include_colab_link": true
    },
    "kernelspec": {
      "name": "python3",
      "display_name": "Python 3"
    }
  },
  "cells": [
    {
      "cell_type": "markdown",
      "metadata": {
        "id": "view-in-github",
        "colab_type": "text"
      },
      "source": [
        "<a href=\"https://colab.research.google.com/github/ayanbabusona/tensorflow/blob/master/Statistics.ipynb\" target=\"_parent\"><img src=\"https://colab.research.google.com/assets/colab-badge.svg\" alt=\"Open In Colab\"/></a>"
      ]
    },
    {
      "cell_type": "code",
      "metadata": {
        "id": "rJX3AAho7aG9",
        "colab_type": "code",
        "outputId": "62b34265-95f3-4505-c50e-b3abca396dec",
        "colab": {
          "base_uri": "https://localhost:8080/",
          "height": 124
        }
      },
      "source": [
        "from google.colab import drive\n",
        "drive.mount('/content/gdrive')"
      ],
      "execution_count": 0,
      "outputs": [
        {
          "output_type": "stream",
          "text": [
            "Go to this URL in a browser: https://accounts.google.com/o/oauth2/auth?client_id=947318989803-6bn6qk8qdgf4n4g3pfee6491hc0brc4i.apps.googleusercontent.com&redirect_uri=urn%3aietf%3awg%3aoauth%3a2.0%3aoob&response_type=code&scope=email%20https%3a%2f%2fwww.googleapis.com%2fauth%2fdocs.test%20https%3a%2f%2fwww.googleapis.com%2fauth%2fdrive%20https%3a%2f%2fwww.googleapis.com%2fauth%2fdrive.photos.readonly%20https%3a%2f%2fwww.googleapis.com%2fauth%2fpeopleapi.readonly\n",
            "\n",
            "Enter your authorization code:\n",
            "··········\n",
            "Mounted at /content/gdrive\n"
          ],
          "name": "stdout"
        }
      ]
    },
    {
      "cell_type": "code",
      "metadata": {
        "id": "xUmw0mhA7xl8",
        "colab_type": "code",
        "colab": {}
      },
      "source": [
        "import pandas as pd\n",
        "import matplotlib.pyplot as plt"
      ],
      "execution_count": 0,
      "outputs": []
    },
    {
      "cell_type": "code",
      "metadata": {
        "id": "DhKS4fDU85dZ",
        "colab_type": "code",
        "outputId": "bbea0926-a570-4d1e-adc3-b818f3d1fab1",
        "colab": {
          "base_uri": "https://localhost:8080/",
          "height": 206
        }
      },
      "source": [
        "df = pd.read_excel('/content/gdrive/My Drive/RLR_Rate_Observed.xlsx')\n",
        "#df1 = pd.read_excel('/content/gdrive/My Drive/Testexcel.xlsx')\n",
        "df.head()\n",
        "#df1.head()"
      ],
      "execution_count": 0,
      "outputs": [
        {
          "output_type": "execute_result",
          "data": {
            "text/html": [
              "<div>\n",
              "<style scoped>\n",
              "    .dataframe tbody tr th:only-of-type {\n",
              "        vertical-align: middle;\n",
              "    }\n",
              "\n",
              "    .dataframe tbody tr th {\n",
              "        vertical-align: top;\n",
              "    }\n",
              "\n",
              "    .dataframe thead th {\n",
              "        text-align: right;\n",
              "    }\n",
              "</style>\n",
              "<table border=\"1\" class=\"dataframe\">\n",
              "  <thead>\n",
              "    <tr style=\"text-align: right;\">\n",
              "      <th></th>\n",
              "      <th>Before Signal Timing Changes</th>\n",
              "      <th>After Signal Timing Changes</th>\n",
              "    </tr>\n",
              "  </thead>\n",
              "  <tbody>\n",
              "    <tr>\n",
              "      <th>0</th>\n",
              "      <td>0.0</td>\n",
              "      <td>0.0</td>\n",
              "    </tr>\n",
              "    <tr>\n",
              "      <th>1</th>\n",
              "      <td>0.0</td>\n",
              "      <td>1.1</td>\n",
              "    </tr>\n",
              "    <tr>\n",
              "      <th>2</th>\n",
              "      <td>11.4</td>\n",
              "      <td>2.1</td>\n",
              "    </tr>\n",
              "    <tr>\n",
              "      <th>3</th>\n",
              "      <td>12.6</td>\n",
              "      <td>9.8</td>\n",
              "    </tr>\n",
              "    <tr>\n",
              "      <th>4</th>\n",
              "      <td>17.2</td>\n",
              "      <td>10.1</td>\n",
              "    </tr>\n",
              "  </tbody>\n",
              "</table>\n",
              "</div>"
            ],
            "text/plain": [
              "   Before Signal Timing Changes  After Signal Timing Changes\n",
              "0                           0.0                          0.0\n",
              "1                           0.0                          1.1\n",
              "2                          11.4                          2.1\n",
              "3                          12.6                          9.8\n",
              "4                          17.2                         10.1"
            ]
          },
          "metadata": {
            "tags": []
          },
          "execution_count": 4
        }
      ]
    },
    {
      "cell_type": "code",
      "metadata": {
        "colab_type": "code",
        "id": "JEbT_X_h9i9p",
        "outputId": "8c54251a-8b12-4cc3-c333-3e0b91da8d39",
        "colab": {
          "base_uri": "https://localhost:8080/",
          "height": 301
        }
      },
      "source": [
        "boxplot = df.boxplot(by = 'Before Signal Timing Changes')"
      ],
      "execution_count": 0,
      "outputs": [
        {
          "output_type": "display_data",
          "data": {
            "image/png": "[encoded data removed]",
            "text/plain": [
              "<Figure size 432x288 with 1 Axes>"
            ]
          },
          "metadata": {
            "tags": [],
            "needs_background": "light"
          }
        }
      ]
    },
    {
      "cell_type": "code",
      "metadata": {
        "id": "Q8WvgsMP_PQE",
        "colab_type": "code",
        "outputId": "efb5fef3-fba4-4a35-e784-3c42acf4efac",
        "colab": {
          "base_uri": "https://localhost:8080/",
          "height": 301
        }
      },
      "source": [
        "boxplot = df.boxplot(by = 'After Signal Timing Changes')"
      ],
      "execution_count": 0,
      "outputs": [
        {
          "output_type": "display_data",
          "data": {
            "image/png": "[encoded data removed]",
            "text/plain": [
              "<Figure size 432x288 with 1 Axes>"
            ]
          },
          "metadata": {
            "tags": [],
            "needs_background": "light"
          }
        }
      ]
    },
    {
      "cell_type": "code",
      "metadata": {
        "id": "maozzKuPAo3s",
        "colab_type": "code",
        "outputId": "111de0ea-79f2-4ee8-be71-c9b928b8778d",
        "colab": {
          "base_uri": "https://localhost:8080/",
          "height": 206
        }
      },
      "source": [
        "df1 = pd.read_excel('/content/gdrive/My Drive/TestExcel.xlsx')\n",
        "df1.head()"
      ],
      "execution_count": 0,
      "outputs": [
        {
          "output_type": "execute_result",
          "data": {
            "text/html": [
              "<div>\n",
              "<style scoped>\n",
              "    .dataframe tbody tr th:only-of-type {\n",
              "        vertical-align: middle;\n",
              "    }\n",
              "\n",
              "    .dataframe tbody tr th {\n",
              "        vertical-align: top;\n",
              "    }\n",
              "\n",
              "    .dataframe thead th {\n",
              "        text-align: right;\n",
              "    }\n",
              "</style>\n",
              "<table border=\"1\" class=\"dataframe\">\n",
              "  <thead>\n",
              "    <tr style=\"text-align: right;\">\n",
              "      <th></th>\n",
              "      <th>Time_WH</th>\n",
              "      <th>Unnamed: 1</th>\n",
              "      <th>RLR_Rates</th>\n",
              "      <th>Time_W</th>\n",
              "      <th>RLR</th>\n",
              "    </tr>\n",
              "  </thead>\n",
              "  <tbody>\n",
              "    <tr>\n",
              "      <th>0</th>\n",
              "      <td>1.1</td>\n",
              "      <td>NaN</td>\n",
              "      <td>20.0</td>\n",
              "      <td>0.0</td>\n",
              "      <td>23.1</td>\n",
              "    </tr>\n",
              "    <tr>\n",
              "      <th>1</th>\n",
              "      <td>1.2</td>\n",
              "      <td>NaN</td>\n",
              "      <td>20.2</td>\n",
              "      <td>0.0</td>\n",
              "      <td>24.1</td>\n",
              "    </tr>\n",
              "    <tr>\n",
              "      <th>2</th>\n",
              "      <td>2.1</td>\n",
              "      <td>NaN</td>\n",
              "      <td>20.4</td>\n",
              "      <td>0.0</td>\n",
              "      <td>24.3</td>\n",
              "    </tr>\n",
              "    <tr>\n",
              "      <th>3</th>\n",
              "      <td>8.1</td>\n",
              "      <td>NaN</td>\n",
              "      <td>20.5</td>\n",
              "      <td>0.0</td>\n",
              "      <td>24.7</td>\n",
              "    </tr>\n",
              "    <tr>\n",
              "      <th>4</th>\n",
              "      <td>8.1</td>\n",
              "      <td>NaN</td>\n",
              "      <td>21.2</td>\n",
              "      <td>2.3</td>\n",
              "      <td>24.9</td>\n",
              "    </tr>\n",
              "  </tbody>\n",
              "</table>\n",
              "</div>"
            ],
            "text/plain": [
              "   Time_WH  Unnamed: 1  RLR_Rates  Time_W   RLR\n",
              "0      1.1         NaN       20.0     0.0  23.1\n",
              "1      1.2         NaN       20.2     0.0  24.1\n",
              "2      2.1         NaN       20.4     0.0  24.3\n",
              "3      8.1         NaN       20.5     0.0  24.7\n",
              "4      8.1         NaN       21.2     2.3  24.9"
            ]
          },
          "metadata": {
            "tags": []
          },
          "execution_count": 7
        }
      ]
    },
    {
      "cell_type": "code",
      "metadata": {
        "id": "nlS2Tjp-Cblx",
        "colab_type": "code",
        "outputId": "ab52371e-6079-4084-84bc-54413895d50f",
        "colab": {
          "base_uri": "https://localhost:8080/",
          "height": 348
        }
      },
      "source": [
        "plt.xlabel('With Signal Timing Improvements ')\n",
        "plt.ylabel('RLR Rate')\n",
        "plt.hist(df1['RLR'])"
      ],
      "execution_count": 0,
      "outputs": [
        {
          "output_type": "execute_result",
          "data": {
            "text/plain": [
              "(array([6., 9., 5., 2., 5., 2., 1., 2., 0., 6.]),\n",
              " array([23.1 , 25.24, 27.38, 29.52, 31.66, 33.8 , 35.94, 38.08, 40.22,\n",
              "        42.36, 44.5 ]),\n",
              " <a list of 10 Patch objects>)"
            ]
          },
          "metadata": {
            "tags": []
          },
          "execution_count": 8
        },
        {
          "output_type": "display_data",
          "data": {
            "image/png": "[encoded data removed]",
            "text/plain": [
              "<Figure size 432x288 with 1 Axes>"
            ]
          },
          "metadata": {
            "tags": [],
            "needs_background": "light"
          }
        }
      ]
    },
    {
      "cell_type": "code",
      "metadata": {
        "id": "PfSZElCRDedl",
        "colab_type": "code",
        "outputId": "9e84ad32-cba5-4128-c4ba-042861997cc0",
        "colab": {
          "base_uri": "https://localhost:8080/",
          "height": 86
        }
      },
      "source": [
        "m=df['Before Signal Timing Changes'].mean()\n",
        "m1=df['After Signal Timing Changes'].mean()\n",
        "std=df.std(axis=0)\n",
        "print(m,m1)\n",
        "std"
      ],
      "execution_count": 0,
      "outputs": [
        {
          "output_type": "stream",
          "text": [
            "23.5375 16.393749999999997\n"
          ],
          "name": "stdout"
        },
        {
          "output_type": "execute_result",
          "data": {
            "text/plain": [
              "Before Signal Timing Changes    13.636709\n",
              "After Signal Timing Changes     11.381884\n",
              "dtype: float64"
            ]
          },
          "metadata": {
            "tags": []
          },
          "execution_count": 10
        }
      ]
    },
    {
      "cell_type": "code",
      "metadata": {
        "id": "PSZeuohqfv9p",
        "colab_type": "code",
        "outputId": "1448462f-0faa-4e8f-a226-10911e9e29b0",
        "colab": {
          "base_uri": "https://localhost:8080/",
          "height": 139
        }
      },
      "source": [
        "m2=df1['Time_WH'].mean()\n",
        "m3=df1['RLR_Rates'].mean()\n",
        "m4=df1['Time_W'].mean()\n",
        "m5=df1['RLR'].mean()\n",
        "std1=df1.std(axis=0)\n",
        "print(m2,m3,m4,m5)\n",
        "std1"
      ],
      "execution_count": 0,
      "outputs": [
        {
          "output_type": "stream",
          "text": [
            "15.139473684210529 32.765789473684215 13.710526315789474 31.56842105263159\n"
          ],
          "name": "stdout"
        },
        {
          "output_type": "execute_result",
          "data": {
            "text/plain": [
              "Time_WH        6.924283\n",
              "Unnamed: 1          NaN\n",
              "RLR_Rates     11.002758\n",
              "Time_W         7.312994\n",
              "RLR            6.910396\n",
              "dtype: float64"
            ]
          },
          "metadata": {
            "tags": []
          },
          "execution_count": 11
        }
      ]
    },
    {
      "cell_type": "code",
      "metadata": {
        "id": "0l-UQ8lUieHf",
        "colab_type": "code",
        "outputId": "afb3fedf-a5f9-4bc9-897d-3e835cc10b7d",
        "colab": {
          "base_uri": "https://localhost:8080/",
          "height": 34
        }
      },
      "source": [
        "import statistics\n",
        "sample = [13.636709,11.381884,6.924283,11.002758,7.312994,6.910396]\n",
        "print(\"Standard Deviation of sample is % s \" % (statistics.stdev(sample)))"
      ],
      "execution_count": 0,
      "outputs": [
        {
          "output_type": "stream",
          "text": [
            "Standard Deviation of sample is 2.8646371851555417 \n"
          ],
          "name": "stdout"
        }
      ]
    },
    {
      "cell_type": "code",
      "metadata": {
        "id": "9lWmQm-_l3yq",
        "colab_type": "code",
        "outputId": "5280ca1b-79f4-4282-fc76-a1ef39f94adf",
        "colab": {
          "base_uri": "https://localhost:8080/",
          "height": 300
        }
      },
      "source": [
        "import pandas as pd\n",
        "from scipy import stats\n",
        "df[['Before Signal Timing Changes','After Signal Timing Changes']].describe()"
      ],
      "execution_count": 0,
      "outputs": [
        {
          "output_type": "execute_result",
          "data": {
            "text/html": [
              "<div>\n",
              "<style scoped>\n",
              "    .dataframe tbody tr th:only-of-type {\n",
              "        vertical-align: middle;\n",
              "    }\n",
              "\n",
              "    .dataframe tbody tr th {\n",
              "        vertical-align: top;\n",
              "    }\n",
              "\n",
              "    .dataframe thead th {\n",
              "        text-align: right;\n",
              "    }\n",
              "</style>\n",
              "<table border=\"1\" class=\"dataframe\">\n",
              "  <thead>\n",
              "    <tr style=\"text-align: right;\">\n",
              "      <th></th>\n",
              "      <th>Before Signal Timing Changes</th>\n",
              "      <th>After Signal Timing Changes</th>\n",
              "    </tr>\n",
              "  </thead>\n",
              "  <tbody>\n",
              "    <tr>\n",
              "      <th>count</th>\n",
              "      <td>16.000000</td>\n",
              "      <td>16.000000</td>\n",
              "    </tr>\n",
              "    <tr>\n",
              "      <th>mean</th>\n",
              "      <td>23.537500</td>\n",
              "      <td>16.393750</td>\n",
              "    </tr>\n",
              "    <tr>\n",
              "      <th>std</th>\n",
              "      <td>13.636709</td>\n",
              "      <td>11.381884</td>\n",
              "    </tr>\n",
              "    <tr>\n",
              "      <th>min</th>\n",
              "      <td>0.000000</td>\n",
              "      <td>0.000000</td>\n",
              "    </tr>\n",
              "    <tr>\n",
              "      <th>25%</th>\n",
              "      <td>16.050000</td>\n",
              "      <td>10.025000</td>\n",
              "    </tr>\n",
              "    <tr>\n",
              "      <th>50%</th>\n",
              "      <td>24.700000</td>\n",
              "      <td>15.550000</td>\n",
              "    </tr>\n",
              "    <tr>\n",
              "      <th>75%</th>\n",
              "      <td>32.850000</td>\n",
              "      <td>20.625000</td>\n",
              "    </tr>\n",
              "    <tr>\n",
              "      <th>max</th>\n",
              "      <td>46.500000</td>\n",
              "      <td>39.400000</td>\n",
              "    </tr>\n",
              "  </tbody>\n",
              "</table>\n",
              "</div>"
            ],
            "text/plain": [
              "       Before Signal Timing Changes  After Signal Timing Changes\n",
              "count                     16.000000                    16.000000\n",
              "mean                      23.537500                    16.393750\n",
              "std                       13.636709                    11.381884\n",
              "min                        0.000000                     0.000000\n",
              "25%                       16.050000                    10.025000\n",
              "50%                       24.700000                    15.550000\n",
              "75%                       32.850000                    20.625000\n",
              "max                       46.500000                    39.400000"
            ]
          },
          "metadata": {
            "tags": []
          },
          "execution_count": 13
        }
      ]
    },
    {
      "cell_type": "code",
      "metadata": {
        "id": "M8SytfZLqTxt",
        "colab_type": "code",
        "outputId": "ce578d32-4ab8-43a2-b1bb-c844fe90c52d",
        "colab": {
          "base_uri": "https://localhost:8080/",
          "height": 34
        }
      },
      "source": [
        "ttest,pval = stats.ttest_rel(df['Before Signal Timing Changes'], df['After Signal Timing Changes'])\n",
        "print(pval)"
      ],
      "execution_count": 0,
      "outputs": [
        {
          "output_type": "stream",
          "text": [
            "1.622556737522668e-06\n"
          ],
          "name": "stdout"
        }
      ]
    },
    {
      "cell_type": "code",
      "metadata": {
        "id": "CpYVJ1acrZKJ",
        "colab_type": "code",
        "outputId": "d35b2008-fd39-4e80-a706-84560781c59e",
        "colab": {
          "base_uri": "https://localhost:8080/",
          "height": 34
        }
      },
      "source": [
        "if pval<0.05:\n",
        "    print(\"reject null hypothesis\")\n",
        "else:\n",
        "    print(\"accept null hypothesis\")"
      ],
      "execution_count": 0,
      "outputs": [
        {
          "output_type": "stream",
          "text": [
            "reject null hypothesis\n"
          ],
          "name": "stdout"
        }
      ]
    },
    {
      "cell_type": "code",
      "metadata": {
        "id": "3bXsmO7nr608",
        "colab_type": "code",
        "outputId": "25c4ccde-c506-4780-803a-83cdf679b727",
        "colab": {
          "base_uri": "https://localhost:8080/",
          "height": 300
        }
      },
      "source": [
        "df1[['Time_WH','RLR_Rates','Time_W','RLR']].describe()"
      ],
      "execution_count": 0,
      "outputs": [
        {
          "output_type": "execute_result",
          "data": {
            "text/html": [
              "<div>\n",
              "<style scoped>\n",
              "    .dataframe tbody tr th:only-of-type {\n",
              "        vertical-align: middle;\n",
              "    }\n",
              "\n",
              "    .dataframe tbody tr th {\n",
              "        vertical-align: top;\n",
              "    }\n",
              "\n",
              "    .dataframe thead th {\n",
              "        text-align: right;\n",
              "    }\n",
              "</style>\n",
              "<table border=\"1\" class=\"dataframe\">\n",
              "  <thead>\n",
              "    <tr style=\"text-align: right;\">\n",
              "      <th></th>\n",
              "      <th>Time_WH</th>\n",
              "      <th>RLR_Rates</th>\n",
              "      <th>Time_W</th>\n",
              "      <th>RLR</th>\n",
              "    </tr>\n",
              "  </thead>\n",
              "  <tbody>\n",
              "    <tr>\n",
              "      <th>count</th>\n",
              "      <td>38.000000</td>\n",
              "      <td>38.000000</td>\n",
              "      <td>38.000000</td>\n",
              "      <td>38.000000</td>\n",
              "    </tr>\n",
              "    <tr>\n",
              "      <th>mean</th>\n",
              "      <td>15.139474</td>\n",
              "      <td>32.765789</td>\n",
              "      <td>13.710526</td>\n",
              "      <td>31.568421</td>\n",
              "    </tr>\n",
              "    <tr>\n",
              "      <th>std</th>\n",
              "      <td>6.924283</td>\n",
              "      <td>11.002758</td>\n",
              "      <td>7.312994</td>\n",
              "      <td>6.910396</td>\n",
              "    </tr>\n",
              "    <tr>\n",
              "      <th>min</th>\n",
              "      <td>1.100000</td>\n",
              "      <td>19.200000</td>\n",
              "      <td>0.000000</td>\n",
              "      <td>23.100000</td>\n",
              "    </tr>\n",
              "    <tr>\n",
              "      <th>25%</th>\n",
              "      <td>9.875000</td>\n",
              "      <td>23.325000</td>\n",
              "      <td>9.575000</td>\n",
              "      <td>26.250000</td>\n",
              "    </tr>\n",
              "    <tr>\n",
              "      <th>50%</th>\n",
              "      <td>15.850000</td>\n",
              "      <td>29.450000</td>\n",
              "      <td>15.400000</td>\n",
              "      <td>28.900000</td>\n",
              "    </tr>\n",
              "    <tr>\n",
              "      <th>75%</th>\n",
              "      <td>20.350000</td>\n",
              "      <td>40.150000</td>\n",
              "      <td>19.725000</td>\n",
              "      <td>35.475000</td>\n",
              "    </tr>\n",
              "    <tr>\n",
              "      <th>max</th>\n",
              "      <td>29.800000</td>\n",
              "      <td>58.500000</td>\n",
              "      <td>22.900000</td>\n",
              "      <td>44.500000</td>\n",
              "    </tr>\n",
              "  </tbody>\n",
              "</table>\n",
              "</div>"
            ],
            "text/plain": [
              "         Time_WH  RLR_Rates     Time_W        RLR\n",
              "count  38.000000  38.000000  38.000000  38.000000\n",
              "mean   15.139474  32.765789  13.710526  31.568421\n",
              "std     6.924283  11.002758   7.312994   6.910396\n",
              "min     1.100000  19.200000   0.000000  23.100000\n",
              "25%     9.875000  23.325000   9.575000  26.250000\n",
              "50%    15.850000  29.450000  15.400000  28.900000\n",
              "75%    20.350000  40.150000  19.725000  35.475000\n",
              "max    29.800000  58.500000  22.900000  44.500000"
            ]
          },
          "metadata": {
            "tags": []
          },
          "execution_count": 16
        }
      ]
    },
    {
      "cell_type": "code",
      "metadata": {
        "id": "PMbRaZVrtRu2",
        "colab_type": "code",
        "outputId": "632ea7f5-fbaa-4eea-bf43-82fa3b0bb527",
        "colab": {
          "base_uri": "https://localhost:8080/",
          "height": 34
        }
      },
      "source": [
        "ttest,pval = stats.ttest_rel(df1['RLR_Rates'],df1['RLR'])\n",
        "print(pval)"
      ],
      "execution_count": 0,
      "outputs": [
        {
          "output_type": "stream",
          "text": [
            "0.3107877918967822\n"
          ],
          "name": "stdout"
        }
      ]
    },
    {
      "cell_type": "code",
      "metadata": {
        "id": "6kBBJuYetowf",
        "colab_type": "code",
        "outputId": "281dcdee-5242-427d-e1c8-f1829b9665a4",
        "colab": {
          "base_uri": "https://localhost:8080/",
          "height": 34
        }
      },
      "source": [
        "if pval<0.05:\n",
        "    print(\"reject null hypothesis\")\n",
        "else:\n",
        "    print(\"accept null hypothesis\")"
      ],
      "execution_count": 0,
      "outputs": [
        {
          "output_type": "stream",
          "text": [
            "accept null hypothesis\n"
          ],
          "name": "stdout"
        }
      ]
    },
    {
      "cell_type": "code",
      "metadata": {
        "id": "Fm--HERgt9T2",
        "colab_type": "code",
        "outputId": "6efb6e62-cd04-4d43-a4cc-f0f357c09206",
        "colab": {
          "base_uri": "https://localhost:8080/",
          "height": 52
        }
      },
      "source": [
        "import pandas as pd\n",
        "from scipy import stats\n",
        "from statsmodels.stats import weightstats as stests\n",
        "ztest ,pval1 = stests.ztest(df['Before Signal Timing Changes'], x2=df['After Signal Timing Changes'], value=0,alternative='two-sided')\n",
        "print(float(pval1))\n",
        "if pval1<0.05:\n",
        "    print(\"reject null hypothesis\")\n",
        "else:\n",
        "    print(\"accept null hypothesis\")"
      ],
      "execution_count": 0,
      "outputs": [
        {
          "output_type": "stream",
          "text": [
            "0.10767661435318368\n",
            "accept null hypothesis\n"
          ],
          "name": "stdout"
        }
      ]
    },
    {
      "cell_type": "code",
      "metadata": {
        "id": "AKXn2WC2vvWN",
        "colab_type": "code",
        "outputId": "726d2b4f-0999-4777-a788-f8bee75eb0c1",
        "colab": {
          "base_uri": "https://localhost:8080/",
          "height": 52
        }
      },
      "source": [
        "ttest,pval = stats.ttest_rel(df1['Time_WH'],df1['Time_W'])\n",
        "print(pval)\n",
        "if pval<0.05:\n",
        "    print(\"reject null hypothesis\")\n",
        "else:\n",
        "    print(\"accept null hypothesis\")"
      ],
      "execution_count": 0,
      "outputs": [
        {
          "output_type": "stream",
          "text": [
            "0.004033529607500283\n",
            "reject null hypothesis\n"
          ],
          "name": "stdout"
        }
      ]
    },
    {
      "cell_type": "code",
      "metadata": {
        "id": "MidWMkTPwkQ2",
        "colab_type": "code",
        "colab": {}
      },
      "source": [
        ""
      ],
      "execution_count": 0,
      "outputs": []
    }
  ]
}