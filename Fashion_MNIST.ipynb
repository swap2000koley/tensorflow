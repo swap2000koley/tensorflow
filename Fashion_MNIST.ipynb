{
  "nbformat": 4,
  "nbformat_minor": 0,
  "metadata": {
    "colab": {
      "name": "Fashion_MNIST",
      "provenance": [],
      "authorship_tag": "ABX9TyPL2crg2lMb38zlkv+AGRsb",
      "include_colab_link": true
    },
    "kernelspec": {
      "name": "python3",
      "display_name": "Python 3"
    }
  },
  "cells": [
    {
      "cell_type": "markdown",
      "metadata": {
        "id": "view-in-github",
        "colab_type": "text"
      },
      "source": [
        "<a href=\"https://colab.research.google.com/github/ayanbabusona/tensorflow/blob/master/Fashion_MNIST.ipynb\" target=\"_parent\"><img src=\"https://colab.research.google.com/assets/colab-badge.svg\" alt=\"Open In Colab\"/></a>"
      ]
    },
    {
      "cell_type": "markdown",
      "metadata": {
        "id": "eEBuGRyY1HhJ",
        "colab_type": "text"
      },
      "source": [
        "The Fashion-MNIST Data Set"
      ]
    },
    {
      "cell_type": "markdown",
      "metadata": {
        "id": "HbKfO0Is1bPk",
        "colab_type": "text"
      },
      "source": [
        "Load the Data"
      ]
    },
    {
      "cell_type": "code",
      "metadata": {
        "id": "UG0M4VYI1RS5",
        "colab_type": "code",
        "outputId": "7397a645-d9c6-40a6-e413-8541c4bd6a6b",
        "colab": {
          "base_uri": "https://localhost:8080/",
          "height": 173
        }
      },
      "source": [
        "from keras.datasets import fashion_mnist\n",
        "(train_X,train_Y), (test_X,test_Y) = fashion_mnist.load_data()"
      ],
      "execution_count": 0,
      "outputs": [
        {
          "output_type": "stream",
          "text": [
            "Using TensorFlow backend.\n"
          ],
          "name": "stderr"
        },
        {
          "output_type": "stream",
          "text": [
            "Downloading data from http://fashion-mnist.s3-website.eu-central-1.amazonaws.com/train-labels-idx1-ubyte.gz\n",
            "32768/29515 [=================================] - 0s 4us/step\n",
            "Downloading data from http://fashion-mnist.s3-website.eu-central-1.amazonaws.com/train-images-idx3-ubyte.gz\n",
            "26427392/26421880 [==============================] - 2s 0us/step\n",
            "Downloading data from http://fashion-mnist.s3-website.eu-central-1.amazonaws.com/t10k-labels-idx1-ubyte.gz\n",
            "8192/5148 [===============================================] - 0s 0us/step\n",
            "Downloading data from http://fashion-mnist.s3-website.eu-central-1.amazonaws.com/t10k-images-idx3-ubyte.gz\n",
            "4423680/4422102 [==============================] - 1s 0us/step\n"
          ],
          "name": "stdout"
        }
      ]
    },
    {
      "cell_type": "markdown",
      "metadata": {
        "id": "_OYloy7J11zA",
        "colab_type": "text"
      },
      "source": [
        "Analyze the Data"
      ]
    },
    {
      "cell_type": "code",
      "metadata": {
        "id": "3U08ttGN1sj4",
        "colab_type": "code",
        "outputId": "5147103c-8ec4-464a-ab19-b13b22a88a68",
        "colab": {
          "base_uri": "https://localhost:8080/",
          "height": 52
        }
      },
      "source": [
        "import numpy as np\n",
        "from keras.utils import to_categorical\n",
        "import matplotlib.pyplot as plt\n",
        "%matplotlib inline\n",
        "\n",
        "print('Training data shape : ', train_X.shape, train_Y.shape)\n",
        "\n",
        "print('Testing data shape : ', test_X.shape, test_Y.shape)"
      ],
      "execution_count": 0,
      "outputs": [
        {
          "output_type": "stream",
          "text": [
            "Training data shape :  (60000, 28, 28) (60000,)\n",
            "Testing data shape :  (10000, 28, 28) (10000,)\n"
          ],
          "name": "stdout"
        }
      ]
    },
    {
      "cell_type": "code",
      "metadata": {
        "id": "hnDQ8lAT19I6",
        "colab_type": "code",
        "outputId": "3723840f-94b3-47d9-c9a5-1174f55fe256",
        "colab": {
          "base_uri": "https://localhost:8080/",
          "height": 52
        }
      },
      "source": [
        "# Find the unique numbers from the train labels\n",
        "classes = np.unique(train_Y)\n",
        "nClasses = len(classes)\n",
        "print('Total number of outputs : ', nClasses)\n",
        "print('Output classes : ', classes)"
      ],
      "execution_count": 0,
      "outputs": [
        {
          "output_type": "stream",
          "text": [
            "Total number of outputs :  10\n",
            "Output classes :  [0 1 2 3 4 5 6 7 8 9]\n"
          ],
          "name": "stdout"
        }
      ]
    },
    {
      "cell_type": "code",
      "metadata": {
        "id": "Je4QHEgP2DmD",
        "colab_type": "code",
        "outputId": "962ae5f9-b007-4a85-9dc1-4fa8177760be",
        "colab": {
          "base_uri": "https://localhost:8080/",
          "height": 208
        }
      },
      "source": [
        "plt.figure(figsize=[5,5])\n",
        "\n",
        "# Display the first image in training data\n",
        "plt.subplot(121)\n",
        "plt.imshow(train_X[0,:,:], cmap='gray')\n",
        "plt.title(\"Ground Truth : {}\".format(train_Y[0]))\n",
        "\n",
        "# Display the first image in testing data\n",
        "plt.subplot(122)\n",
        "plt.imshow(test_X[0,:,:], cmap='gray')\n",
        "plt.title(\"Ground Truth : {}\".format(test_Y[0]))"
      ],
      "execution_count": 0,
      "outputs": [
        {
          "output_type": "execute_result",
          "data": {
            "text/plain": [
              "Text(0.5, 1.0, 'Ground Truth : 9')"
            ]
          },
          "metadata": {
            "tags": []
          },
          "execution_count": 4
        },
        {
          "output_type": "display_data",
          "data": {
            "image/png": "[encoded data removed]",
            "text/plain": [
              "<Figure size 360x360 with 2 Axes>"
            ]
          },
          "metadata": {
            "tags": [],
            "needs_background": "light"
          }
        }
      ]
    },
    {
      "cell_type": "markdown",
      "metadata": {
        "id": "Gxpo0p-P2PVm",
        "colab_type": "text"
      },
      "source": [
        "Data Preprocessing"
      ]
    },
    {
      "cell_type": "code",
      "metadata": {
        "id": "m65QwlcQ2JBg",
        "colab_type": "code",
        "outputId": "cb21d5b5-6823-4653-d6d7-19d3601e87e3",
        "colab": {
          "base_uri": "https://localhost:8080/",
          "height": 34
        }
      },
      "source": [
        "train_X = train_X.reshape(-1, 28,28, 1)\n",
        "test_X = test_X.reshape(-1, 28,28, 1)\n",
        "train_X.shape, test_X.shape"
      ],
      "execution_count": 0,
      "outputs": [
        {
          "output_type": "execute_result",
          "data": {
            "text/plain": [
              "((60000, 28, 28, 1), (10000, 28, 28, 1))"
            ]
          },
          "metadata": {
            "tags": []
          },
          "execution_count": 5
        }
      ]
    },
    {
      "cell_type": "markdown",
      "metadata": {
        "id": "8W5vVeEK2c1K",
        "colab_type": "text"
      },
      "source": [
        "Data Normalization"
      ]
    },
    {
      "cell_type": "code",
      "metadata": {
        "id": "nIBzaJDD2XRg",
        "colab_type": "code",
        "colab": {}
      },
      "source": [
        "train_X = train_X.astype('float32')\n",
        "test_X = test_X.astype('float32')\n",
        "train_X = train_X / 255.\n",
        "test_X = test_X / 255."
      ],
      "execution_count": 0,
      "outputs": []
    },
    {
      "cell_type": "code",
      "metadata": {
        "id": "IywhILEL2hyR",
        "colab_type": "code",
        "outputId": "213234ab-f8cf-4b0b-e5c1-316d98ecbc3d",
        "colab": {
          "base_uri": "https://localhost:8080/",
          "height": 52
        }
      },
      "source": [
        "# Change the labels from categorical to one-hot encoding\n",
        "train_Y_one_hot = to_categorical(train_Y)\n",
        "test_Y_one_hot = to_categorical(test_Y)\n",
        "\n",
        "# Display the change for category label using one-hot encoding\n",
        "print('Original label:', train_Y[0])\n",
        "print('After conversion to one-hot:', train_Y_one_hot[0])\n"
      ],
      "execution_count": 0,
      "outputs": [
        {
          "output_type": "stream",
          "text": [
            "Original label: 9\n",
            "After conversion to one-hot: [0. 0. 0. 0. 0. 0. 0. 0. 0. 1.]\n"
          ],
          "name": "stdout"
        }
      ]
    },
    {
      "cell_type": "code",
      "metadata": {
        "id": "I1IDFFBR2nTQ",
        "colab_type": "code",
        "colab": {}
      },
      "source": [
        "from sklearn.model_selection import train_test_split\n",
        "train_X,valid_X,train_label,valid_label = train_test_split(train_X, train_Y_one_hot, test_size=0.2, random_state=13)\n"
      ],
      "execution_count": 0,
      "outputs": []
    },
    {
      "cell_type": "code",
      "metadata": {
        "id": "PyCmucTU2sxZ",
        "colab_type": "code",
        "outputId": "5aae6c29-c4af-402c-fa0b-908455361397",
        "colab": {
          "base_uri": "https://localhost:8080/",
          "height": 34
        }
      },
      "source": [
        "train_X.shape,valid_X.shape,train_label.shape,valid_label.shape"
      ],
      "execution_count": 0,
      "outputs": [
        {
          "output_type": "execute_result",
          "data": {
            "text/plain": [
              "((48000, 28, 28, 1), (12000, 28, 28, 1), (48000, 10), (12000, 10))"
            ]
          },
          "metadata": {
            "tags": []
          },
          "execution_count": 9
        }
      ]
    },
    {
      "cell_type": "markdown",
      "metadata": {
        "id": "hFqtefDv22P4",
        "colab_type": "text"
      },
      "source": [
        "The Network\n",
        "\n",
        "The images are of size 28 x 28. You convert the image matrix to an array, rescale it between 0 and 1, reshape it so that it's of size 28 x 28 x 1, and feed this as an input to the network.\n",
        "\n",
        "You'll use three convolutional layers:\n",
        "\n",
        "    The first layer will have 32-3 x 3 filters,\n",
        "    The second layer will have 64-3 x 3 filters and\n",
        "    The third layer will have 128-3 x 3 filters.\n",
        "\n",
        "In addition, there are three max-pooling layers each of size 2 x 2."
      ]
    },
    {
      "cell_type": "markdown",
      "metadata": {
        "id": "xN57ahTa3Ds-",
        "colab_type": "text"
      },
      "source": [
        "![alt text](https://res.cloudinary.com/dyd911kmh/image/upload/f_auto,q_auto:best/v1512486717/fashion-mnist-architecture_htbpsz.png)"
      ]
    },
    {
      "cell_type": "markdown",
      "metadata": {
        "id": "DGgKzFUZ3rtV",
        "colab_type": "text"
      },
      "source": [
        "**Model the Data**"
      ]
    },
    {
      "cell_type": "code",
      "metadata": {
        "id": "-IvrIHRi3rTb",
        "colab_type": "code",
        "colab": {}
      },
      "source": [
        "import keras\n",
        "from keras.models import Sequential,Input,Model\n",
        "from keras.layers import Dense, Dropout, Flatten\n",
        "from keras.layers import Conv2D, MaxPooling2D\n",
        "from keras.layers.normalization import BatchNormalization\n",
        "from keras.layers.advanced_activations import LeakyReLU\n"
      ],
      "execution_count": 0,
      "outputs": []
    },
    {
      "cell_type": "code",
      "metadata": {
        "id": "oFLVWTjA2wxE",
        "colab_type": "code",
        "colab": {}
      },
      "source": [
        "batch_size = 64\n",
        "epochs = 20\n",
        "num_classes = 10"
      ],
      "execution_count": 0,
      "outputs": []
    },
    {
      "cell_type": "markdown",
      "metadata": {
        "id": "QLEZbEq934o8",
        "colab_type": "text"
      },
      "source": [
        "**Neural Network Architecture**"
      ]
    },
    {
      "cell_type": "code",
      "metadata": {
        "id": "CH2NWwSW312P",
        "colab_type": "code",
        "colab": {}
      },
      "source": [
        "fashion_model = Sequential()\n",
        "fashion_model.add(Conv2D(32, kernel_size=(3, 3),activation='linear',input_shape=(28,28,1),padding='same'))\n",
        "fashion_model.add(LeakyReLU(alpha=0.1))\n",
        "fashion_model.add(MaxPooling2D((2, 2),padding='same'))\n",
        "fashion_model.add(Conv2D(64, (3, 3), activation='linear',padding='same'))\n",
        "fashion_model.add(LeakyReLU(alpha=0.1))\n",
        "fashion_model.add(MaxPooling2D(pool_size=(2, 2),padding='same'))\n",
        "fashion_model.add(Conv2D(128, (3, 3), activation='linear',padding='same'))\n",
        "fashion_model.add(LeakyReLU(alpha=0.1))                  \n",
        "fashion_model.add(MaxPooling2D(pool_size=(2, 2),padding='same'))\n",
        "fashion_model.add(Flatten())\n",
        "fashion_model.add(Dense(128, activation='linear'))\n",
        "fashion_model.add(LeakyReLU(alpha=0.1))                  \n",
        "fashion_model.add(Dense(num_classes, activation='softmax'))"
      ],
      "execution_count": 0,
      "outputs": []
    },
    {
      "cell_type": "markdown",
      "metadata": {
        "id": "wx14pK694d56",
        "colab_type": "text"
      },
      "source": [
        "**Compile the Model**"
      ]
    },
    {
      "cell_type": "code",
      "metadata": {
        "id": "iDUEbZqG4ZKO",
        "colab_type": "code",
        "colab": {}
      },
      "source": [
        "fashion_model.compile(loss=keras.losses.categorical_crossentropy, optimizer=keras.optimizers.Adam(),metrics=['accuracy'])"
      ],
      "execution_count": 0,
      "outputs": []
    },
    {
      "cell_type": "code",
      "metadata": {
        "id": "n7CjKORn4kll",
        "colab_type": "code",
        "outputId": "72ed3bf1-a452-471b-e905-21de3dee1bd6",
        "colab": {
          "base_uri": "https://localhost:8080/",
          "height": 607
        }
      },
      "source": [
        "fashion_model.summary()"
      ],
      "execution_count": 0,
      "outputs": [
        {
          "output_type": "stream",
          "text": [
            "Model: \"sequential_1\"\n",
            "_________________________________________________________________\n",
            "Layer (type)                 Output Shape              Param #   \n",
            "=================================================================\n",
            "conv2d_1 (Conv2D)            (None, 28, 28, 32)        320       \n",
            "_________________________________________________________________\n",
            "leaky_re_lu_1 (LeakyReLU)    (None, 28, 28, 32)        0         \n",
            "_________________________________________________________________\n",
            "max_pooling2d_1 (MaxPooling2 (None, 14, 14, 32)        0         \n",
            "_________________________________________________________________\n",
            "conv2d_2 (Conv2D)            (None, 14, 14, 64)        18496     \n",
            "_________________________________________________________________\n",
            "leaky_re_lu_2 (LeakyReLU)    (None, 14, 14, 64)        0         \n",
            "_________________________________________________________________\n",
            "max_pooling2d_2 (MaxPooling2 (None, 7, 7, 64)          0         \n",
            "_________________________________________________________________\n",
            "conv2d_3 (Conv2D)            (None, 7, 7, 128)         73856     \n",
            "_________________________________________________________________\n",
            "leaky_re_lu_3 (LeakyReLU)    (None, 7, 7, 128)         0         \n",
            "_________________________________________________________________\n",
            "max_pooling2d_3 (MaxPooling2 (None, 4, 4, 128)         0         \n",
            "_________________________________________________________________\n",
            "flatten_1 (Flatten)          (None, 2048)              0         \n",
            "_________________________________________________________________\n",
            "dense_1 (Dense)              (None, 128)               262272    \n",
            "_________________________________________________________________\n",
            "leaky_re_lu_4 (LeakyReLU)    (None, 128)               0         \n",
            "_________________________________________________________________\n",
            "dense_2 (Dense)              (None, 10)                1290      \n",
            "=================================================================\n",
            "Total params: 356,234\n",
            "Trainable params: 356,234\n",
            "Non-trainable params: 0\n",
            "_________________________________________________________________\n"
          ],
          "name": "stdout"
        }
      ]
    },
    {
      "cell_type": "markdown",
      "metadata": {
        "id": "NjnAw1IV4t9M",
        "colab_type": "text"
      },
      "source": [
        "**Train the Model**"
      ]
    },
    {
      "cell_type": "code",
      "metadata": {
        "id": "M04dqvjv4oFp",
        "colab_type": "code",
        "outputId": "68c98611-f1e1-4324-d70a-47489aa3bcef",
        "colab": {
          "base_uri": "https://localhost:8080/",
          "height": 729
        }
      },
      "source": [
        "fashion_train = fashion_model.fit(train_X, train_label, batch_size=batch_size,epochs=epochs,verbose=1,validation_data=(valid_X, valid_label))"
      ],
      "execution_count": 0,
      "outputs": [
        {
          "output_type": "stream",
          "text": [
            "Train on 48000 samples, validate on 12000 samples\n",
            "Epoch 1/20\n",
            "48000/48000 [==============================] - 85s 2ms/step - loss: 0.4649 - accuracy: 0.8317 - val_loss: 0.3216 - val_accuracy: 0.8867\n",
            "Epoch 2/20\n",
            "48000/48000 [==============================] - 85s 2ms/step - loss: 0.2879 - accuracy: 0.8960 - val_loss: 0.2782 - val_accuracy: 0.8984\n",
            "Epoch 3/20\n",
            "48000/48000 [==============================] - 85s 2ms/step - loss: 0.2437 - accuracy: 0.9099 - val_loss: 0.2378 - val_accuracy: 0.9122\n",
            "Epoch 4/20\n",
            "48000/48000 [==============================] - 85s 2ms/step - loss: 0.2085 - accuracy: 0.9231 - val_loss: 0.2449 - val_accuracy: 0.9112\n",
            "Epoch 5/20\n",
            "48000/48000 [==============================] - 85s 2ms/step - loss: 0.1818 - accuracy: 0.9329 - val_loss: 0.2466 - val_accuracy: 0.9136\n",
            "Epoch 6/20\n",
            "48000/48000 [==============================] - 86s 2ms/step - loss: 0.1591 - accuracy: 0.9407 - val_loss: 0.2387 - val_accuracy: 0.9167\n",
            "Epoch 7/20\n",
            "48000/48000 [==============================] - 86s 2ms/step - loss: 0.1384 - accuracy: 0.9479 - val_loss: 0.2582 - val_accuracy: 0.9113\n",
            "Epoch 8/20\n",
            "48000/48000 [==============================] - 85s 2ms/step - loss: 0.1182 - accuracy: 0.9557 - val_loss: 0.2337 - val_accuracy: 0.9203\n",
            "Epoch 9/20\n",
            "48000/48000 [==============================] - 86s 2ms/step - loss: 0.0997 - accuracy: 0.9623 - val_loss: 0.2607 - val_accuracy: 0.9219\n",
            "Epoch 10/20\n",
            "48000/48000 [==============================] - 85s 2ms/step - loss: 0.0821 - accuracy: 0.9691 - val_loss: 0.2625 - val_accuracy: 0.9210\n",
            "Epoch 11/20\n",
            "48000/48000 [==============================] - 85s 2ms/step - loss: 0.0735 - accuracy: 0.9724 - val_loss: 0.3450 - val_accuracy: 0.9166\n",
            "Epoch 12/20\n",
            "48000/48000 [==============================] - 86s 2ms/step - loss: 0.0616 - accuracy: 0.9770 - val_loss: 0.3512 - val_accuracy: 0.9171\n",
            "Epoch 13/20\n",
            "48000/48000 [==============================] - 86s 2ms/step - loss: 0.0534 - accuracy: 0.9800 - val_loss: 0.3217 - val_accuracy: 0.9249\n",
            "Epoch 14/20\n",
            "48000/48000 [==============================] - 86s 2ms/step - loss: 0.0481 - accuracy: 0.9817 - val_loss: 0.3388 - val_accuracy: 0.9182\n",
            "Epoch 15/20\n",
            "48000/48000 [==============================] - 85s 2ms/step - loss: 0.0432 - accuracy: 0.9840 - val_loss: 0.3395 - val_accuracy: 0.9229\n",
            "Epoch 16/20\n",
            "48000/48000 [==============================] - 85s 2ms/step - loss: 0.0402 - accuracy: 0.9852 - val_loss: 0.3929 - val_accuracy: 0.9193\n",
            "Epoch 17/20\n",
            "48000/48000 [==============================] - 85s 2ms/step - loss: 0.0336 - accuracy: 0.9873 - val_loss: 0.4004 - val_accuracy: 0.9167\n",
            "Epoch 18/20\n",
            "48000/48000 [==============================] - 84s 2ms/step - loss: 0.0332 - accuracy: 0.9877 - val_loss: 0.4093 - val_accuracy: 0.9187\n",
            "Epoch 19/20\n",
            "48000/48000 [==============================] - 85s 2ms/step - loss: 0.0288 - accuracy: 0.9892 - val_loss: 0.4761 - val_accuracy: 0.9222\n",
            "Epoch 20/20\n",
            "48000/48000 [==============================] - 87s 2ms/step - loss: 0.0246 - accuracy: 0.9905 - val_loss: 0.4652 - val_accuracy: 0.9227\n"
          ],
          "name": "stdout"
        }
      ]
    },
    {
      "cell_type": "markdown",
      "metadata": {
        "id": "W9j1SbMZ47Tl",
        "colab_type": "text"
      },
      "source": [
        "**Model Evaluation on the Test Set**"
      ]
    },
    {
      "cell_type": "code",
      "metadata": {
        "id": "CeN94sCY4zKb",
        "colab_type": "code",
        "outputId": "acab8d32-43c5-4b36-a5d4-7714e7255ce5",
        "colab": {
          "base_uri": "https://localhost:8080/",
          "height": 52
        }
      },
      "source": [
        "test_eval = fashion_model.evaluate(test_X, test_Y_one_hot, verbose=0)\n",
        "print('Test loss:', test_eval[0])\n",
        "print('Test accuracy:', test_eval[1])"
      ],
      "execution_count": 0,
      "outputs": [
        {
          "output_type": "stream",
          "text": [
            "Test loss: 0.48628818407058716\n",
            "Test accuracy: 0.9182000160217285\n"
          ],
          "name": "stdout"
        }
      ]
    },
    {
      "cell_type": "code",
      "metadata": {
        "id": "90hA4VEB_4pL",
        "colab_type": "code",
        "outputId": "6ff4061e-4471-4622-bc45-4581dd3573a2",
        "colab": {
          "base_uri": "https://localhost:8080/",
          "height": 545
        }
      },
      "source": [
        "accuracy = fashion_train.history['accuracy']\n",
        "val_accuracy = fashion_train.history['val_accuracy']\n",
        "loss = fashion_train.history['loss']\n",
        "val_loss = fashion_train.history['val_loss']\n",
        "epochs = range(len(accuracy))\n",
        "plt.plot(epochs, accuracy, 'bo', label='Training accuracy')\n",
        "plt.plot(epochs, val_accuracy, 'b', label='Validation accuracy')\n",
        "plt.title('Training and validation accuracy')\n",
        "plt.legend()\n",
        "plt.figure()\n",
        "plt.plot(epochs, loss, 'bo', label='Training loss')\n",
        "plt.plot(epochs, val_loss, 'b', label='Validation loss')\n",
        "plt.title('Training and validation loss')\n",
        "plt.legend()\n",
        "plt.show()"
      ],
      "execution_count": 0,
      "outputs": [
        {
          "output_type": "display_data",
          "data": {
            "image/png": "[encoded data removed]",
            "text/plain": [
              "<Figure size 432x288 with 1 Axes>"
            ]
          },
          "metadata": {
            "tags": [],
            "needs_background": "light"
          }
        },
        {
          "output_type": "display_data",
          "data": {
            "image/png": "[encoded data removed]",
            "text/plain": [
              "<Figure size 432x288 with 1 Axes>"
            ]
          },
          "metadata": {
            "tags": [],
            "needs_background": "light"
          }
        }
      ]
    },
    {
      "cell_type": "markdown",
      "metadata": {
        "id": "CrMpeL29A0yw",
        "colab_type": "text"
      },
      "source": [
        "**Adding Dropout into the Network**"
      ]
    },
    {
      "cell_type": "code",
      "metadata": {
        "id": "ZkKAq59tAHjl",
        "colab_type": "code",
        "colab": {}
      },
      "source": [
        "batch_size = 64\n",
        "epochs = 10\n",
        "num_classes = 10"
      ],
      "execution_count": 0,
      "outputs": []
    },
    {
      "cell_type": "code",
      "metadata": {
        "id": "BmFtSfT2A7PX",
        "colab_type": "code",
        "colab": {}
      },
      "source": [
        "fashion_model = Sequential()\n",
        "fashion_model.add(Conv2D(32, kernel_size=(3, 3),activation='linear',padding='same',input_shape=(28,28,1)))\n",
        "fashion_model.add(LeakyReLU(alpha=0.1))\n",
        "fashion_model.add(MaxPooling2D((2, 2),padding='same'))\n",
        "fashion_model.add(Dropout(0.25))\n",
        "fashion_model.add(Conv2D(64, (3, 3), activation='linear',padding='same'))\n",
        "fashion_model.add(LeakyReLU(alpha=0.1))\n",
        "fashion_model.add(MaxPooling2D(pool_size=(2, 2),padding='same'))\n",
        "fashion_model.add(Dropout(0.25))\n",
        "fashion_model.add(Conv2D(128, (3, 3), activation='linear',padding='same'))\n",
        "fashion_model.add(LeakyReLU(alpha=0.1))                  \n",
        "fashion_model.add(MaxPooling2D(pool_size=(2, 2),padding='same'))\n",
        "fashion_model.add(Dropout(0.4))\n",
        "fashion_model.add(Flatten())\n",
        "fashion_model.add(Dense(128, activation='linear'))\n",
        "fashion_model.add(LeakyReLU(alpha=0.1))           \n",
        "fashion_model.add(Dropout(0.3))\n",
        "fashion_model.add(Dense(num_classes, activation='softmax'))\n"
      ],
      "execution_count": 0,
      "outputs": []
    },
    {
      "cell_type": "code",
      "metadata": {
        "id": "RDs-IHX7A_n1",
        "colab_type": "code",
        "outputId": "9a1e6e9d-0728-4dec-b471-cdc9ef73adb5",
        "colab": {
          "base_uri": "https://localhost:8080/",
          "height": 746
        }
      },
      "source": [
        "fashion_model.summary()"
      ],
      "execution_count": 0,
      "outputs": [
        {
          "output_type": "stream",
          "text": [
            "Model: \"sequential_2\"\n",
            "_________________________________________________________________\n",
            "Layer (type)                 Output Shape              Param #   \n",
            "=================================================================\n",
            "conv2d_4 (Conv2D)            (None, 28, 28, 32)        320       \n",
            "_________________________________________________________________\n",
            "leaky_re_lu_5 (LeakyReLU)    (None, 28, 28, 32)        0         \n",
            "_________________________________________________________________\n",
            "max_pooling2d_4 (MaxPooling2 (None, 14, 14, 32)        0         \n",
            "_________________________________________________________________\n",
            "dropout_1 (Dropout)          (None, 14, 14, 32)        0         \n",
            "_________________________________________________________________\n",
            "conv2d_5 (Conv2D)            (None, 14, 14, 64)        18496     \n",
            "_________________________________________________________________\n",
            "leaky_re_lu_6 (LeakyReLU)    (None, 14, 14, 64)        0         \n",
            "_________________________________________________________________\n",
            "max_pooling2d_5 (MaxPooling2 (None, 7, 7, 64)          0         \n",
            "_________________________________________________________________\n",
            "dropout_2 (Dropout)          (None, 7, 7, 64)          0         \n",
            "_________________________________________________________________\n",
            "conv2d_6 (Conv2D)            (None, 7, 7, 128)         73856     \n",
            "_________________________________________________________________\n",
            "leaky_re_lu_7 (LeakyReLU)    (None, 7, 7, 128)         0         \n",
            "_________________________________________________________________\n",
            "max_pooling2d_6 (MaxPooling2 (None, 4, 4, 128)         0         \n",
            "_________________________________________________________________\n",
            "dropout_3 (Dropout)          (None, 4, 4, 128)         0         \n",
            "_________________________________________________________________\n",
            "flatten_2 (Flatten)          (None, 2048)              0         \n",
            "_________________________________________________________________\n",
            "dense_3 (Dense)              (None, 128)               262272    \n",
            "_________________________________________________________________\n",
            "leaky_re_lu_8 (LeakyReLU)    (None, 128)               0         \n",
            "_________________________________________________________________\n",
            "dropout_4 (Dropout)          (None, 128)               0         \n",
            "_________________________________________________________________\n",
            "dense_4 (Dense)              (None, 10)                1290      \n",
            "=================================================================\n",
            "Total params: 356,234\n",
            "Trainable params: 356,234\n",
            "Non-trainable params: 0\n",
            "_________________________________________________________________\n"
          ],
          "name": "stdout"
        }
      ]
    },
    {
      "cell_type": "code",
      "metadata": {
        "id": "xfAqZZGOBC40",
        "colab_type": "code",
        "colab": {}
      },
      "source": [
        "fashion_model.compile(loss=keras.losses.categorical_crossentropy, optimizer=keras.optimizers.Adam(),metrics=['accuracy'])"
      ],
      "execution_count": 0,
      "outputs": []
    },
    {
      "cell_type": "code",
      "metadata": {
        "id": "hcHZGdPpBHcK",
        "colab_type": "code",
        "outputId": "833e9ba8-fbea-49ff-d92a-ab7924eb5ca4",
        "colab": {
          "base_uri": "https://localhost:8080/",
          "height": 382
        }
      },
      "source": [
        "fashion_train_dropout = fashion_model.fit(train_X, train_label, batch_size=batch_size,epochs=epochs,verbose=1,validation_data=(valid_X, valid_label))"
      ],
      "execution_count": 0,
      "outputs": [
        {
          "output_type": "stream",
          "text": [
            "Train on 48000 samples, validate on 12000 samples\n",
            "Epoch 1/10\n",
            "48000/48000 [==============================] - 92s 2ms/step - loss: 0.5912 - accuracy: 0.7823 - val_loss: 0.3742 - val_accuracy: 0.8560\n",
            "Epoch 2/10\n",
            "48000/48000 [==============================] - 92s 2ms/step - loss: 0.3768 - accuracy: 0.8618 - val_loss: 0.3177 - val_accuracy: 0.8795\n",
            "Epoch 3/10\n",
            "48000/48000 [==============================] - 92s 2ms/step - loss: 0.3303 - accuracy: 0.8779 - val_loss: 0.2787 - val_accuracy: 0.8953\n",
            "Epoch 4/10\n",
            "48000/48000 [==============================] - 93s 2ms/step - loss: 0.3027 - accuracy: 0.8870 - val_loss: 0.2634 - val_accuracy: 0.9028\n",
            "Epoch 5/10\n",
            "48000/48000 [==============================] - 93s 2ms/step - loss: 0.2842 - accuracy: 0.8943 - val_loss: 0.2531 - val_accuracy: 0.9034\n",
            "Epoch 6/10\n",
            "48000/48000 [==============================] - 94s 2ms/step - loss: 0.2711 - accuracy: 0.9003 - val_loss: 0.2438 - val_accuracy: 0.9090\n",
            "Epoch 7/10\n",
            "48000/48000 [==============================] - 93s 2ms/step - loss: 0.2567 - accuracy: 0.9036 - val_loss: 0.2449 - val_accuracy: 0.9119\n",
            "Epoch 8/10\n",
            "48000/48000 [==============================] - 98s 2ms/step - loss: 0.2509 - accuracy: 0.9061 - val_loss: 0.2308 - val_accuracy: 0.9138\n",
            "Epoch 9/10\n",
            "48000/48000 [==============================] - 94s 2ms/step - loss: 0.2429 - accuracy: 0.9091 - val_loss: 0.2277 - val_accuracy: 0.9176\n",
            "Epoch 10/10\n",
            "48000/48000 [==============================] - 94s 2ms/step - loss: 0.2328 - accuracy: 0.9112 - val_loss: 0.2244 - val_accuracy: 0.9192\n"
          ],
          "name": "stdout"
        }
      ]
    },
    {
      "cell_type": "code",
      "metadata": {
        "id": "VYLW_bHpBKmz",
        "colab_type": "code",
        "colab": {}
      },
      "source": [
        "fashion_model.save(\"fashion_model_dropout.h5py\")"
      ],
      "execution_count": 0,
      "outputs": []
    },
    {
      "cell_type": "markdown",
      "metadata": {
        "id": "TQKm_CD5BX7Q",
        "colab_type": "text"
      },
      "source": [
        "**Model Evaluation on the Test Set**"
      ]
    },
    {
      "cell_type": "code",
      "metadata": {
        "id": "UUiBr01jBRPe",
        "colab_type": "code",
        "outputId": "28cb9692-3e9d-45e0-cba3-4ebe2bc49b02",
        "colab": {
          "base_uri": "https://localhost:8080/",
          "height": 34
        }
      },
      "source": [
        "test_eval = fashion_model.evaluate(test_X, test_Y_one_hot, verbose=1)"
      ],
      "execution_count": 0,
      "outputs": [
        {
          "output_type": "stream",
          "text": [
            "10000/10000 [==============================] - 8s 793us/step\n"
          ],
          "name": "stdout"
        }
      ]
    },
    {
      "cell_type": "code",
      "metadata": {
        "id": "Ku9pD0IPGAqP",
        "colab_type": "code",
        "outputId": "8be2d443-b4c1-4c83-bfc7-b6ec4536f798",
        "colab": {
          "base_uri": "https://localhost:8080/",
          "height": 52
        }
      },
      "source": [
        "print('Test loss:', test_eval[0])\n",
        "print('Test accuracy:', test_eval[1])"
      ],
      "execution_count": 0,
      "outputs": [
        {
          "output_type": "stream",
          "text": [
            "Test loss: 0.23597120593190193\n",
            "Test accuracy: 0.9128000140190125\n"
          ],
          "name": "stdout"
        }
      ]
    },
    {
      "cell_type": "code",
      "metadata": {
        "id": "sZulUDibGENX",
        "colab_type": "code",
        "outputId": "68da276a-863f-42f9-afce-c11559c31e00",
        "colab": {
          "base_uri": "https://localhost:8080/",
          "height": 545
        }
      },
      "source": [
        "accuracy = fashion_train_dropout.history['accuracy']\n",
        "val_accuracy = fashion_train_dropout.history['val_accuracy']\n",
        "loss = fashion_train_dropout.history['loss']\n",
        "val_loss = fashion_train_dropout.history['val_loss']\n",
        "epochs = range(len(accuracy))\n",
        "plt.plot(epochs, accuracy, 'bo', label='Training accuracy')\n",
        "plt.plot(epochs, val_accuracy, 'b', label='Validation accuracy')\n",
        "plt.title('Training and validation accuracy')\n",
        "plt.legend()\n",
        "plt.figure()\n",
        "plt.plot(epochs, loss, 'bo', label='Training loss')\n",
        "plt.plot(epochs, val_loss, 'b', label='Validation loss')\n",
        "plt.title('Training and validation loss')\n",
        "plt.legend()\n",
        "plt.show()"
      ],
      "execution_count": 0,
      "outputs": [
        {
          "output_type": "display_data",
          "data": {
            "image/png": "[encoded data removed]",
            "text/plain": [
              "<Figure size 432x288 with 1 Axes>"
            ]
          },
          "metadata": {
            "tags": [],
            "needs_background": "light"
          }
        },
        {
          "output_type": "display_data",
          "data": {
            "image/png": "[encoded data removed]",
            "text/plain": [
              "<Figure size 432x288 with 1 Axes>"
            ]
          },
          "metadata": {
            "tags": [],
            "needs_background": "light"
          }
        }
      ]
    },
    {
      "cell_type": "markdown",
      "metadata": {
        "id": "YJZTQCKZGRi8",
        "colab_type": "text"
      },
      "source": [
        "**Predict Labels**"
      ]
    },
    {
      "cell_type": "code",
      "metadata": {
        "id": "FgZHpZCLGMgV",
        "colab_type": "code",
        "colab": {}
      },
      "source": [
        "predicted_classes = fashion_model.predict(test_X)"
      ],
      "execution_count": 0,
      "outputs": []
    },
    {
      "cell_type": "code",
      "metadata": {
        "id": "llf7AavMGWJx",
        "colab_type": "code",
        "colab": {}
      },
      "source": [
        "predicted_classes = np.argmax(np.round(predicted_classes),axis=1)"
      ],
      "execution_count": 0,
      "outputs": []
    },
    {
      "cell_type": "code",
      "metadata": {
        "id": "xHblKtCmGar5",
        "colab_type": "code",
        "outputId": "6e388929-8d63-45cc-c64b-52f9e5d4f7eb",
        "colab": {
          "base_uri": "https://localhost:8080/",
          "height": 34
        }
      },
      "source": [
        "predicted_classes.shape, test_Y.shape"
      ],
      "execution_count": 0,
      "outputs": [
        {
          "output_type": "execute_result",
          "data": {
            "text/plain": [
              "((10000,), (10000,))"
            ]
          },
          "metadata": {
            "tags": []
          },
          "execution_count": 33
        }
      ]
    },
    {
      "cell_type": "code",
      "metadata": {
        "id": "3T6Vhh5mGeL2",
        "colab_type": "code",
        "outputId": "5bcc04d1-0043-4249-aa21-672a6c5eaf07",
        "colab": {
          "base_uri": "https://localhost:8080/",
          "height": 314
        }
      },
      "source": [
        "correct = np.where(predicted_classes==test_Y)[0]\n",
        "print(\"Found %d correct labels\" % len(correct))\n",
        "for i, correct in enumerate(correct[:9]):\n",
        "    plt.subplot(3,3,i+1)\n",
        "    plt.imshow(test_X[correct].reshape(28,28), cmap='gray', interpolation='none')\n",
        "    plt.title(\"Predicted {}, Class {}\".format(predicted_classes[correct], test_Y[correct]))\n",
        "    plt.tight_layout()"
      ],
      "execution_count": 0,
      "outputs": [
        {
          "output_type": "stream",
          "text": [
            "Found 9088 correct labels\n"
          ],
          "name": "stdout"
        },
        {
          "output_type": "display_data",
          "data": {
            "image/png": "[encoded data removed]",
            "text/plain": [
              "<Figure size 432x288 with 9 Axes>"
            ]
          },
          "metadata": {
            "tags": [],
            "needs_background": "light"
          }
        }
      ]
    },
    {
      "cell_type": "code",
      "metadata": {
        "id": "d35owh30GjlV",
        "colab_type": "code",
        "outputId": "b60c2daa-4a1d-45c6-e772-c27deb3166e3",
        "colab": {
          "base_uri": "https://localhost:8080/",
          "height": 314
        }
      },
      "source": [
        "incorrect = np.where(predicted_classes!=test_Y)[0]\n",
        "print(\"Found %d incorrect labels\" % len(incorrect))\n",
        "for i, incorrect in enumerate(incorrect[:9]):\n",
        "    plt.subplot(3,3,i+1)\n",
        "    plt.imshow(test_X[incorrect].reshape(28,28), cmap='gray', interpolation='none')\n",
        "    plt.title(\"Predicted {}, Class {}\".format(predicted_classes[incorrect], test_Y[incorrect]))\n",
        "    plt.tight_layout()"
      ],
      "execution_count": 0,
      "outputs": [
        {
          "output_type": "stream",
          "text": [
            "Found 912 incorrect labels\n"
          ],
          "name": "stdout"
        },
        {
          "output_type": "display_data",
          "data": {
            "image/png": "[encoded data removed]",
            "text/plain": [
              "<Figure size 432x288 with 9 Axes>"
            ]
          },
          "metadata": {
            "tags": [],
            "needs_background": "light"
          }
        }
      ]
    },
    {
      "cell_type": "markdown",
      "metadata": {
        "id": "pM9syXcxG7k5",
        "colab_type": "text"
      },
      "source": [
        "**Classification Report**"
      ]
    },
    {
      "cell_type": "code",
      "metadata": {
        "id": "DL7wP7TLGxSR",
        "colab_type": "code",
        "outputId": "5e7e6e30-068a-40ea-e6cd-93a1088c825b",
        "colab": {
          "base_uri": "https://localhost:8080/",
          "height": 312
        }
      },
      "source": [
        "from sklearn.metrics import classification_report\n",
        "target_names = [\"Class {}\".format(i) for i in range(num_classes)]\n",
        "print(classification_report(test_Y, predicted_classes, target_names=target_names))"
      ],
      "execution_count": 0,
      "outputs": [
        {
          "output_type": "stream",
          "text": [
            "              precision    recall  f1-score   support\n",
            "\n",
            "     Class 0       0.75      0.91      0.82      1000\n",
            "     Class 1       1.00      0.98      0.99      1000\n",
            "     Class 2       0.88      0.85      0.87      1000\n",
            "     Class 3       0.92      0.90      0.91      1000\n",
            "     Class 4       0.87      0.84      0.86      1000\n",
            "     Class 5       0.99      0.98      0.99      1000\n",
            "     Class 6       0.80      0.70      0.74      1000\n",
            "     Class 7       0.96      0.97      0.96      1000\n",
            "     Class 8       0.98      0.99      0.98      1000\n",
            "     Class 9       0.96      0.97      0.97      1000\n",
            "\n",
            "    accuracy                           0.91     10000\n",
            "   macro avg       0.91      0.91      0.91     10000\n",
            "weighted avg       0.91      0.91      0.91     10000\n",
            "\n"
          ],
          "name": "stdout"
        }
      ]
    },
    {
      "cell_type": "code",
      "metadata": {
        "id": "48NiyhFLHAHb",
        "colab_type": "code",
        "colab": {}
      },
      "source": [
        ""
      ],
      "execution_count": 0,
      "outputs": []
    }
  ]
}